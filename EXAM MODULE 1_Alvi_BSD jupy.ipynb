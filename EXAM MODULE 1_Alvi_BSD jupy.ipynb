{
 "cells": [
  {
   "cell_type": "code",
   "execution_count": 144,
   "metadata": {},
   "outputs": [
    {
     "output_type": "stream",
     "name": "stdout",
     "text": "#HelloWorldHowAreYouDoing\n"
    }
   ],
   "source": [
    "#1. Create a function called Hashtag that generate hashtag which accepting string separated\n",
    "#by space as presented in the below with following rules (15 Points):\n",
    "#• It must start with a hashtag (#).\n",
    "#• All words must have their first letter capitalized.\n",
    "#• If the final result is longer than 140 chars it must return False.\n",
    "#• If the input or the result is an empty string it must return False.\n",
    "#For Example:\n",
    "#Hashtag(\" Hello there how are you doing\") //would return \"#HelloThereHowAreYouDoing\"\n",
    "#Hashtag(\" Hello World \" )//would return \"#HelloWorld\"\n",
    "#Hashtag(\"\")// would return False\n",
    "\n",
    "def Hashtag(string):\n",
    "    kalimat = []\n",
    "    string1 = string.split()\n",
    "    for a in string1:\n",
    "            kalimat.append(a.capitalize())\n",
    "    n = ''.join(kalimat)\n",
    "    if len(n) > 140 or len(n) == 0:\n",
    "        return False\n",
    "    else:\n",
    "        print(f'#{n}')\n",
    "\n",
    "Hashtag('hellO WorLd how are you doing')\n"
   ]
  },
  {
   "cell_type": "code",
   "execution_count": 143,
   "metadata": {
    "tags": [
     "outputPrepend",
     "outputPrepend",
     "outputPrepend",
     "outputPrepend",
     "outputPrepend",
     "outputPrepend",
     "outputPrepend",
     "outputPrepend",
     "outputPrepend",
     "outputPrepend",
     "outputPrepend",
     "outputPrepend",
     "outputPrepend",
     "outputPrepend",
     "outputPrepend",
     "outputPrepend",
     "outputPrepend",
     "outputPrepend",
     "outputPrepend",
     "outputPrepend",
     "outputPrepend",
     "outputPrepend"
    ]
   },
   "outputs": [
    {
     "output_type": "stream",
     "name": "stdout",
     "text": "(123) 456-7890\n"
    }
   ],
   "source": [
    "#2. Write a function that accepts a list of 10 integers (between 0 and 9), that returns a string\n",
    "#of those numbers in the form of a phone number (10 points).\n",
    "#For Example:\n",
    "#create_phone_number([1, 2, 3, 4, 5, 6, 7, 8, 9, 0])//would return \"(123) 456-7890\"\n",
    "#The returned format must follow the example. Don't forget the space after the closing\n",
    "#parentheses!\n",
    "def create_phone_number(n):\n",
    "    \n",
    "            if len(n) <= 10 and len(n) == 10:\n",
    "                for i in n:\n",
    "                    if type(i) == int:\n",
    "                        phone1 = str(n[0]) + str(n[1]) + str(n[2])\n",
    "                        phone2 = str(n[3]) + str(n[4]) + str(n[5])\n",
    "                        phone3 = str(n[6]) + str(n[7]) + str(n[8]) + str(n[9])\n",
    "                        \n",
    "                        \n",
    "                    \n",
    "\n",
    "                    else:\n",
    "                        return False\n",
    "                print(f'({phone1}) {phone2}-{phone3}')\n",
    "            else:\n",
    "                print('invalid input')\n",
    "                  \n",
    "            \n",
    "           \n",
    "    \n",
    "\n",
    "        \n",
    "   \n",
    "        \n",
    "create_phone_number([1, 2, 3, 4, 5,6 ,7, 8, 9, 0])\n",
    "\n",
    "\n",
    "\n"
   ]
  },
  {
   "cell_type": "code",
   "execution_count": 102,
   "metadata": {},
   "outputs": [],
   "source": [
    "#3. You are given a list of integers. Your task is to sort odd numbers within the list in ascending\n",
    "#order, and even numbers in descending order but keep all the odds or the evens number in\n",
    "#the same index group (35 Points).\n",
    "#Note that zero is an even number. If you have an empty list, you need to return it.\n",
    "#For Example:\n",
    "#Sort_odd_even([5, 3, 2, 8, 1, 4]) // would return [1, 3, 8, 4, 5, 2]\n",
    "#odd numbers ascending: [1, 3, 5, ] ( Odds number in the index 0, 1, and 4)\n",
    "#even numbers descending: [ 8, 4, 2] (Evens number in the index 2,3, and 5)\n",
    "\n",
    "def sort_odd_even(b):\n",
    "    for i in range(len(b)):\n",
    "        for j in range(i + 1, len(b)):\n",
    "            if b[i]%2 == 1 and b[j]%2 == 1:\n",
    "                if b[i] > b[j]:\n",
    "                    temp = b[i]\n",
    "                    b[i] = b[j]\n",
    "                    b[j] = temp\n",
    "            elif b[i]%2 == 0  and b[j]%2 == 0 or b[i] == 0:\n",
    "                if b[i] < b[j]:\n",
    "                    temp = b[i]\n",
    "                    b[i] = b[j]\n",
    "                    b[j] = temp\n",
    "            elif b == '':\n",
    "                return b\n",
    "            \n",
    "            \n",
    "            \n",
    "    print(b)    "
   ]
  },
  {
   "cell_type": "code",
   "execution_count": 128,
   "metadata": {},
   "outputs": [
    {
     "output_type": "stream",
     "name": "stdout",
     "text": "[1, 3, 8, 4, 5, 2]\n"
    }
   ],
   "source": [
    "sort_odd_even([5, 3, 2, 8, 1, 4])"
   ]
  },
  {
   "cell_type": "code",
   "execution_count": null,
   "metadata": {},
   "outputs": [],
   "source": []
  }
 ],
 "metadata": {
  "language_info": {
   "codemirror_mode": {
    "name": "ipython",
    "version": 3
   },
   "file_extension": ".py",
   "mimetype": "text/x-python",
   "name": "python",
   "nbconvert_exporter": "python",
   "pygments_lexer": "ipython3",
   "version": "3.7.6-final"
  },
  "orig_nbformat": 2,
  "kernelspec": {
   "name": "python3",
   "display_name": "Python 3"
  }
 },
 "nbformat": 4,
 "nbformat_minor": 2
}